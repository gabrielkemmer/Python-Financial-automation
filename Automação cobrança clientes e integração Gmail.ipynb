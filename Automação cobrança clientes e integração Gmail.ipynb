{
 "cells": [
  {
   "cell_type": "code",
   "execution_count": null,
   "id": "df7e9ae6",
   "metadata": {},
   "outputs": [],
   "source": [
    "import pandas as pd\n",
    "import datetime as dt"
   ]
  },
  {
   "cell_type": "code",
   "execution_count": null,
   "id": "da75ab00",
   "metadata": {},
   "outputs": [],
   "source": [
    "tabela = pd.read_excel('Contas a Receber.xlsx')\n",
    "\n",
    "display(tabela)\n",
    "tabela.info()"
   ]
  },
  {
   "cell_type": "code",
   "execution_count": null,
   "id": "76a2d4cd",
   "metadata": {},
   "outputs": [],
   "source": [
    "hoje = dt.datetime.now()\n",
    "\n",
    "print(hoje)"
   ]
  },
  {
   "cell_type": "code",
   "execution_count": null,
   "id": "dbb8c02f",
   "metadata": {},
   "outputs": [],
   "source": [
    "tabela_devedores = tabela.loc[tabela['Status']=='Em aberto']\n",
    "display(tabela_devedores)\n",
    "\n",
    "tabela_devedores = tabela_devedores.loc[tabela_devedores['Data Prevista para pagamento']<hoje]\n",
    "display(tabela_devedores)"
   ]
  },
  {
   "cell_type": "code",
   "execution_count": null,
   "id": "5d822c86",
   "metadata": {},
   "outputs": [],
   "source": [
    "dados = tabela_devedores[['Valor em aberto','Data Prevista para pagamento', 'E-mail', 'NF']].values.tolist()\n",
    "\n",
    "display(dados)"
   ]
  },
  {
   "cell_type": "code",
   "execution_count": null,
   "id": "62c1ba77",
   "metadata": {},
   "outputs": [],
   "source": [
    "import os\n",
    "import pickle\n",
    "# Gmail API utils\n",
    "from googleapiclient.discovery import build\n",
    "from google_auth_oauthlib.flow import InstalledAppFlow\n",
    "from google.auth.transport.requests import Request\n",
    "# for encoding/decoding messages in base64\n",
    "from base64 import urlsafe_b64decode, urlsafe_b64encode\n",
    "# for dealing with attachement MIME types\n",
    "from email.mime.text import MIMEText\n",
    "from email.mime.multipart import MIMEMultipart\n",
    "from email.mime.image import MIMEImage\n",
    "from email.mime.audio import MIMEAudio\n",
    "from email.mime.base import MIMEBase\n",
    "from mimetypes import guess_type as guess_mime_type\n",
    "\n",
    "# Request all access (permission to read/send/receive emails, manage the inbox, and more)\n",
    "SCOPES = ['https://mail.google.com/']\n",
    "our_email = ''"
   ]
  },
  {
   "cell_type": "code",
   "execution_count": null,
   "id": "07c7a89e",
   "metadata": {},
   "outputs": [],
   "source": [
    "def gmail_authenticate():\n",
    "    creds = None\n",
    "    # the file token.pickle stores the user's access and refresh tokens, and is\n",
    "    # created automatically when the authorization flow completes for the first time\n",
    "    if os.path.exists(\"token.pickle\"):\n",
    "        with open(\"token.pickle\", \"rb\") as token:\n",
    "            creds = pickle.load(token)\n",
    "    # if there are no (valid) credentials availablle, let the user log in.\n",
    "    if not creds or not creds.valid:\n",
    "        if creds and creds.expired and creds.refresh_token:\n",
    "            creds.refresh(Request())\n",
    "        else:\n",
    "            flow = InstalledAppFlow.from_client_secrets_file('client_gmail.json', SCOPES)\n",
    "            creds = flow.run_local_server(port=0)\n",
    "        # save the credentials for the next run\n",
    "        with open(\"token.pickle\", \"wb\") as token:\n",
    "            pickle.dump(creds, token)\n",
    "    return build('gmail', 'v1', credentials=creds)\n",
    "\n",
    "# get the Gmail API service\n",
    "service = gmail_authenticate()"
   ]
  },
  {
   "cell_type": "code",
   "execution_count": null,
   "id": "cc54350a",
   "metadata": {},
   "outputs": [],
   "source": [
    "# a password sempre tem que ir nas configurações da conta do google e criar uma senha para app\n",
    "\n",
    "import smtplib\n",
    "import email.message\n",
    "\n",
    "def enviar_email():  \n",
    "    for dado in dados:\n",
    "        destinatario = dado[2] \n",
    "        nf=dado[3]\n",
    "        prazo=dado[1]\n",
    "        prazo=prazo.strftime(\"%d/%m/%y\")\n",
    "    \n",
    "    \n",
    "        corpo_email = f\"\"\"\n",
    "        <p>Olá {destinatario}, tudo bem? Temos um valor em aberto de referente a nota fiscal {nf}</p>\n",
    "        <p>O prazo de pagamento era {prazo}</p>\n",
    "        \"\"\"\n",
    "\n",
    "        msg = email.message.Message()\n",
    "        msg['Subject'] = \"Cobrança\"\n",
    "        msg['From'] = ''\n",
    "        msg['To'] = destinatario\n",
    "        password = 'mfwhfyuiocbelrzd' \n",
    "        msg.add_header('Content-Type', 'text/html')\n",
    "        msg.set_payload(corpo_email )\n",
    "\n",
    "        s = smtplib.SMTP('smtp.gmail.com: 587')\n",
    "        s.starttls()\n",
    "        # Login Credentials for sending the mail\n",
    "        s.login(msg['From'], password)\n",
    "        s.sendmail(msg['From'], [msg['To']], msg.as_string().encode('utf-8'))\n",
    "        print('Email enviado')"
   ]
  },
  {
   "cell_type": "code",
   "execution_count": null,
   "id": "6d56a084",
   "metadata": {},
   "outputs": [],
   "source": [
    "enviar_email()"
   ]
  }
 ],
 "metadata": {
  "kernelspec": {
   "display_name": "Python 3 (ipykernel)",
   "language": "python",
   "name": "python3"
  },
  "language_info": {
   "codemirror_mode": {
    "name": "ipython",
    "version": 3
   },
   "file_extension": ".py",
   "mimetype": "text/x-python",
   "name": "python",
   "nbconvert_exporter": "python",
   "pygments_lexer": "ipython3",
   "version": "3.9.7"
  }
 },
 "nbformat": 4,
 "nbformat_minor": 5
}
